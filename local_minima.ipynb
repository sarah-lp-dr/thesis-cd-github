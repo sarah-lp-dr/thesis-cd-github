{
 "cells": [
  {
   "cell_type": "markdown",
   "metadata": {},
   "source": [
    "Detection of local minima (> 1m) on a rescaled DEM (2m)\n",
    "Last update: 13/03/2025"
   ]
  },
  {
   "cell_type": "code",
   "execution_count": 15,
   "metadata": {},
   "outputs": [],
   "source": [
    "# Load modules\n",
    "import numpy as np\n",
    "from osgeo import gdal\n",
    "from numpy.lib.stride_tricks import as_strided\n",
    "import time\n",
    "import csv"
   ]
  },
  {
   "cell_type": "code",
   "execution_count": 16,
   "metadata": {},
   "outputs": [],
   "source": [
    "# Define functions\n",
    "def load_data(file_path):\n",
    "    \"\"\"\n",
    "    Input: DEM (raster) file path \n",
    "    Output: DEM (array) and geotransform information\n",
    "    \"\"\"\n",
    "    try:\n",
    "        gdal.UseExceptions()\n",
    "        data = gdal.Open(file_path)\n",
    "        if data is None:\n",
    "            raise FileNotFoundError(f\"Could not open file: {file_path}\")\n",
    "        data_array = data.ReadAsArray()\n",
    "        geotransform = data.GetGeoTransform()\n",
    "        return data_array, geotransform\n",
    "    except Exception as e:\n",
    "        raise RuntimeError(f\"Error loading DEM: {e}\")\n",
    "\n",
    "def normalize_data(data):\n",
    "    \"\"\"\n",
    "    Input: DEM (array)\n",
    "    Output: Normalized DEM (array)\n",
    "    \"\"\"\n",
    "    return (data - np.min(data)) / (np.max(data) - np.min(data)) # 0-1 range\n",
    "\n",
    "def detect_local_minima(dem_normalized, window_size):\n",
    "    \"\"\"\n",
    "    Input: Normalized DEM (array) and focal window size\n",
    "    Output: Local minima (mask)\n",
    "    \"\"\"\n",
    "    rows, cols = dem_normalized.shape\n",
    "    shape = (rows - window_size + 1, cols - window_size + 1, window_size, window_size)\n",
    "    strides = (dem_normalized.strides[0], dem_normalized.strides[1],\n",
    "               dem_normalized.strides[0], dem_normalized.strides[1])\n",
    "    sliding_windows = as_strided(dem_normalized, shape, strides)\n",
    "\n",
    "    local_minima = np.min(sliding_windows, axis=(2, 3))\n",
    "    local_maxima = np.max(sliding_windows, axis=(2, 3))\n",
    "    center_values = dem_normalized[window_size // 2:rows - window_size // 2,\n",
    "                                    window_size // 2:cols - window_size // 2]\n",
    "    dem_min, dem_max = np.min(dem_normalized), np.max(dem_normalized)\n",
    "    mask = (local_minima == center_values) & (local_maxima - local_minima <= 1 / (dem_max - dem_min))\n",
    "    return mask\n",
    "\n",
    "def extract_coordinates(mask, geotransform, window_size):\n",
    "    \"\"\"\n",
    "    Input: Local minima (mask), geotransform information and focal window size\n",
    "    Output: Local minima (coordinates)\n",
    "    \"\"\"\n",
    "    coordinates = []\n",
    "    for i, j in zip(*np.nonzero(mask)):\n",
    "        center_x = window_size // 2 + j\n",
    "        center_y = window_size // 2 + i\n",
    "        geo_x = geotransform[0] + center_x * geotransform[1] + center_y * geotransform[2]\n",
    "        geo_y = geotransform[3] + center_x * geotransform[4] + center_y * geotransform[5]\n",
    "        coordinates.append((len(coordinates) + 1, geo_x, geo_y))\n",
    "    return coordinates\n",
    "\n",
    "def save_to_csv(data, filename, headers):\n",
    "    \"\"\"\n",
    "    Input: Local minima (coordinates), filename and headers\n",
    "    Output: Local minima (CSV)\n",
    "    \"\"\"\n",
    "    try:\n",
    "        with open(filename, mode='w', newline='') as file:\n",
    "            writer = csv.writer(file)\n",
    "            writer.writerow(headers)\n",
    "            writer.writerows(data)\n",
    "        print(f\"Results saved to {filename}\")\n",
    "    except Exception as e:\n",
    "        raise RuntimeError(f\"Error writing to CSV: {e}\")"
   ]
  },
  {
   "cell_type": "code",
   "execution_count": 18,
   "metadata": {},
   "outputs": [
    {
     "name": "stdout",
     "output_type": "stream",
     "text": [
      "Window size: 5\n",
      "Number of depressions identified: 121475\n",
      "Time taken: 17.41 seconds\n",
      "Results saved to C:\\Users\\sarah\\OneDrive\\Documenten\\GitHub\\thesis-cds-github\\Data\\test_area_local_minima.csv\n"
     ]
    }
   ],
   "source": [
    "# File paths\n",
    "dem_path = r\"C:\\Users\\sarah\\OneDrive\\Documenten\\GitHub\\thesis-cds-github\\Data\\tifs\\test_area_DHMVIIDTMRAS1m_k32_rescaled_2m.tif\"\n",
    "output_csv = r\"C:\\Users\\sarah\\OneDrive\\Documenten\\GitHub\\thesis-cds-github\\Data\\test_area_local_minima.csv\"\n",
    "\n",
    "# Parameters\n",
    "window_size = 5\n",
    "\n",
    "# Load and process DEM\n",
    "try:\n",
    "    dem_array, geotransform = load_data(dem_path)\n",
    "    dem_normalized = normalize_data(dem_array)\n",
    "\n",
    "    # Detect local minima\n",
    "    start_time = time.time()\n",
    "    mask = detect_local_minima(dem_normalized, window_size)\n",
    "    depressions = extract_coordinates(mask, geotransform, window_size)\n",
    "    elapsed_time = time.time() - start_time\n",
    "\n",
    "    # Output results\n",
    "    print(f\"Window size: {window_size}\")\n",
    "    print(f\"Number of depressions identified: {len(depressions)}\")\n",
    "    print(f\"Time taken: {elapsed_time:.2f} seconds\")\n",
    "    save_to_csv(depressions, output_csv, ['id', 'longitude', 'latitude'])\n",
    "    \n",
    "except Exception as e:\n",
    "    print(f\"Error: {e}\")"
   ]
  }
 ],
 "metadata": {
  "kernelspec": {
   "display_name": "cnn_remote_sensing",
   "language": "python",
   "name": "python3"
  },
  "language_info": {
   "codemirror_mode": {
    "name": "ipython",
    "version": 3
   },
   "file_extension": ".py",
   "mimetype": "text/x-python",
   "name": "python",
   "nbconvert_exporter": "python",
   "pygments_lexer": "ipython3",
   "version": "3.10.16"
  }
 },
 "nbformat": 4,
 "nbformat_minor": 2
}
