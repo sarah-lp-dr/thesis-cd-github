{
 "cells": [
  {
   "cell_type": "markdown",
   "id": "432b933f",
   "metadata": {},
   "source": [
    "**Last Updated**: *18 April 2025*"
   ]
  },
  {
   "cell_type": "markdown",
   "id": "e54c1b3c",
   "metadata": {},
   "source": [
    "**Part I: Preparing data**"
   ]
  },
  {
   "cell_type": "code",
   "execution_count": 1,
   "id": "4d7513c0",
   "metadata": {},
   "outputs": [],
   "source": [
    "# === Modules ===\n",
    "import numpy as np\n",
    "import torch\n",
    "import torch.nn as nn # nn models\n",
    "import torch.optim as optim # optimization algorithms (incl. stocastic gradient descend)\n",
    "import torch.nn.functional as F # activation functions (incl. ReLu)\n",
    "from torch.utils.data import TensorDataset, DataLoader, Subset, random_split, ConcatDataset, WeightedRandomSampler # dataset management\n",
    "from torchvision.transforms import v2 # transformations (inc. random rotation)\n",
    "import random\n",
    "import time\n",
    "from sklearn.metrics import precision_score, recall_score, f1_score, precision_recall_curve, auc\n",
    "import copy\n",
    "import matplotlib.pyplot as plt\n",
    "from sklearn.metrics import confusion_matrix, ConfusionMatrixDisplay\n",
    "import optuna\n",
    "from optuna import trial\n",
    "from optuna.trial import TrialState"
   ]
  },
  {
   "cell_type": "code",
   "execution_count": 2,
   "id": "0a4a4a16",
   "metadata": {},
   "outputs": [],
   "source": [
    "# === Functions: Spliting & Data augmentation ===\n",
    "\n",
    "# Data spliting \n",
    "def split_dataset(base_dataset, cd_ids, val_perc=0.2, test_perc=0.2, random_seed=42):\n",
    "    \n",
    "    id_to_indices = {id_: [] for id_ in np.unique(cd_ids)}\n",
    "    for i, id_ in enumerate(cd_ids):\n",
    "        id_to_indices[id_].append(i)\n",
    "    random.seed(random_seed)\n",
    "    id_list = list(id_to_indices.keys())\n",
    "    random.shuffle(id_list)\n",
    "\n",
    "    n = len(id_list)\n",
    "    val_n = int(val_perc * n)\n",
    "    test_n = int(test_perc * n)\n",
    "\n",
    "    val_ids = id_list[:val_n]\n",
    "    test_ids = id_list[val_n:val_n + test_n]\n",
    "    train_ids = id_list[val_n + test_n:]\n",
    "\n",
    "    val_idx = [i for id_ in val_ids for i in id_to_indices[id_]]\n",
    "    test_idx = [i for id_ in test_ids for i in id_to_indices[id_]]\n",
    "    train_idx = [i for id_ in train_ids for i in id_to_indices[id_]]\n",
    "\n",
    "    return Subset(base_dataset, train_idx), Subset(base_dataset, val_idx), Subset(base_dataset, test_idx)\n",
    "\n",
    "# Data augmentation\n",
    "augment_transform = v2.Compose([\n",
    "    v2.RandomHorizontalFlip(p=0.5),         # horizontal flip with a prob of 50%\n",
    "    v2.RandomVerticalFlip(p=0.5),           # vertival flip with a prob of 50%\n",
    "    v2.RandomRotation(degrees=(90, 270))])  # random rotation between 90° and 270°  \n",
    "\n",
    "class augment_dataset():\n",
    "    def __init__(self, base_dataset, transform, n_augments=5):\n",
    "        self.base_dataset = base_dataset\n",
    "        self.transform = transform\n",
    "        self.n_augments = n_augments\n",
    "\n",
    "    def __len__(self):\n",
    "        return len(self.base_dataset) * (1 + self.n_augments)\n",
    "\n",
    "    def __getitem__(self, idx):\n",
    "        base_idx = idx // (1 + self.n_augments)  \n",
    "        augmentation_idx = idx % (1 + self.n_augments)\n",
    "\n",
    "        x, y = self.base_dataset[base_idx]\n",
    "\n",
    "        if augmentation_idx == 0: \n",
    "            return x, y\n",
    "        else:  \n",
    "            x_aug = self.transform(x)\n",
    "            return x_aug, y\n",
    "\n",
    "        \n",
    "# Plot one example\n",
    "def plot_dem_with_augmentations(dataset, sample_idx, n_augments=5, transform=augment_transform):\n",
    "    original_img, _ = dataset[sample_idx]  \n",
    "    dem_band = original_img[0]\n",
    "\n",
    "    fig, axes = plt.subplots(1, n_augments + 1, figsize=(10, 3))\n",
    "\n",
    "    vmin, vmax = dem_band.min().item(), dem_band.max().item()\n",
    "\n",
    "    axes[0].imshow(dem_band.numpy(), cmap=\"terrain\", vmin=vmin, vmax=vmax)\n",
    "    axes[0].set_title(\"Original\")\n",
    "    axes[0].axis(\"off\")\n",
    "\n",
    "    for i in range(n_augments):\n",
    "        augmented_img = transform(original_img) \n",
    "        augmented_dem = augmented_img[0]\n",
    "\n",
    "        axes[i + 1].imshow(augmented_dem.numpy(), cmap=\"terrain\", vmin=vmin, vmax=vmax)\n",
    "        axes[i + 1].set_title(f\"Aug {i + 1}\")\n",
    "        axes[i + 1].axis(\"off\")\n",
    "\n",
    "    plt.tight_layout()\n",
    "    plt.show()"
   ]
  },
  {
   "cell_type": "code",
   "execution_count": 3,
   "id": "8b0585e9",
   "metadata": {},
   "outputs": [
    {
     "name": "stdout",
     "output_type": "stream",
     "text": [
      "                Non-CD Data          Non-CD Labels        CD Data              CD Labels           \n",
      "Shape           (10000, 4, 50, 50)   (10000,)             (2138, 4, 50, 50)    (2138,)             \n",
      "Dtype           float32              int32                float32              int32               \n",
      "Range/Value     0.0 - 1.0            0.0                  0.0 - 1.0            1.0                 \n"
     ]
    }
   ],
   "source": [
    "# === Load data ===\n",
    "\n",
    "# Load .npy files\n",
    "non_cd_data = np.load('test_area_non_CD_featuresb.npy')\n",
    "non_cd_labels = np.load('test_area_non_CD_labelsb.npy')\n",
    "cd_data = np.load('test_area_CD_featuresb.npy')\n",
    "cd_labels = np.load('test_area_CD_labelsb.npy')\n",
    "\n",
    "# Remove aspect and edge\n",
    "non_cd_data = np.delete(non_cd_data, [2, 3, 6], axis=1)\n",
    "cd_data = np.delete(cd_data, [2, 3, 6], axis=1)\n",
    "\n",
    "# Print basic info\n",
    "print(f\"{'':<15} {'Non-CD Data':<20} {'Non-CD Labels':<20} {'CD Data':<20} {'CD Labels':<20}\")\n",
    "print(f\"{'Shape':<15} {str(non_cd_data.shape):<20} {str(non_cd_labels.shape):<20} {str(cd_data.shape):<20} {str(cd_labels.shape):<20}\")\n",
    "print(f\"{'Dtype':<15} {str(non_cd_data.dtype):<20} {str(non_cd_labels.dtype):<20} {str(cd_data.dtype):<20} {str(cd_labels.dtype):<20}\")\n",
    "print(f\"{'Range/Value':<15} {str(non_cd_data.min())+' - '+str(non_cd_data.max()):<20} {str(non_cd_labels.mean()):<20} {str(cd_data.min())+' - '+str(cd_data.max()):<20} {str(cd_labels.mean()):<20}\")"
   ]
  },
  {
   "cell_type": "code",
   "execution_count": 4,
   "id": "f78f436c",
   "metadata": {},
   "outputs": [
    {
     "name": "stdout",
     "output_type": "stream",
     "text": [
      "                CD Data                        CD Labels                     \n",
      "Shape           torch.Size([2138, 4, 50, 50])  torch.Size([2138])            \n",
      "\n",
      "\n",
      "                               Training                       Validation                     Testing                       \n",
      "Percentage of CD dataset       60%                            20%                            20%                           \n",
      "Number of CDs                  1409                           378                            351                           \n",
      "Number of augmented CDs        2818                           0                              0                             \n"
     ]
    },
    {
     "data": {
      "image/png": "[encoded data removed]",
      "text/plain": [
       "<Figure size 1000x300 with 3 Axes>"
      ]
     },
     "metadata": {},
     "output_type": "display_data"
    }
   ],
   "source": [
    "# === Prepare CD data ===\n",
    "\n",
    "# Convert to torch tensors\n",
    "cd_data_torch = torch.tensor(cd_data, dtype=torch.float32)\n",
    "cd_labels_torch = torch.tensor(cd_labels, dtype=torch.long)\n",
    "print(f\"{'':<15} {'CD Data':<30} {'CD Labels':<30}\")\n",
    "print(f\"{'Shape':<15} {str(cd_data_torch.shape):<30} {str(cd_labels_torch.shape):<30}\")\n",
    "\n",
    "base_dataset = TensorDataset(cd_data_torch, cd_labels_torch)\n",
    "\n",
    "# Split into 60/20/20 for training/validation/testing\n",
    "cd_ids = np.load(\"test_area_CD_id.npy\") # split taking CD id into accound to avoid data leakage\n",
    "val_perc = 0.2\n",
    "test_perc = 0.2\n",
    "train_dataset_cd, val_dataset_cd, test_dataset_cd = split_dataset(base_dataset, cd_ids, val_perc, test_perc)\n",
    "\n",
    "# Perform data augmentation\n",
    "n_augments = 5\n",
    "augmented_train_dataset_cd = augment_dataset(train_dataset_cd, transform = augment_transform, n_augments=2)\n",
    "\n",
    "# Print info \n",
    "print('\\n')\n",
    "print(f\"{'':<30} {'Training':<30} {'Validation':<30} {'Testing':<30}\")\n",
    "print(f\"{'Percentage of CD dataset':<30} {str(int((1-val_perc-test_perc)*100))+'%':<30} {str(int(val_perc*100))+'%':<30} {str(int(test_perc*100))+'%':<30}\")\n",
    "print(f\"{'Number of CDs':<30} {str(len(train_dataset_cd)):<30} {str(len(val_dataset_cd)):<30} {str(len(test_dataset_cd)):<30}\")\n",
    "print(f\"{'Number of augmented CDs':<30} {str(len(augmented_train_dataset_cd)-len(train_dataset_cd)):<30} {str('0'):<30} {str('0'):<30}\")\n",
    "plot_dem_with_augmentations(train_dataset_cd, sample_idx=10, n_augments=2)"
   ]
  },
  {
   "cell_type": "code",
   "execution_count": 5,
   "id": "2ff718b1",
   "metadata": {},
   "outputs": [
    {
     "name": "stdout",
     "output_type": "stream",
     "text": [
      "                Non-CD Data                    Non-CD Labels                 \n",
      "Shape           torch.Size([10000, 4, 50, 50]) torch.Size([10000])           \n",
      "\n",
      "\n",
      "                               Training                       Validation                     Testing                       \n",
      "Percentage of non-CD dataset   94%                            3%                             3%                            \n",
      "Number of non-CDs              9400                           300                            300                           \n"
     ]
    }
   ],
   "source": [
    "# === Prepare Non-CD data ===\n",
    "\n",
    "# Convert to torch tensors\n",
    "non_cd_data_torch = torch.tensor(non_cd_data, dtype=torch.float32)\n",
    "non_cd_labels_torch = torch.tensor(non_cd_labels, dtype=torch.long)\n",
    "print(f\"{'':<15} {'Non-CD Data':<30} {'Non-CD Labels':<30}\")\n",
    "print(f\"{'Shape':<15} {str(non_cd_data_torch.shape):<30} {str(non_cd_labels_torch.shape):<30}\")\n",
    "\n",
    "negative_dataset = TensorDataset(non_cd_data_torch, non_cd_labels_torch)\n",
    "\n",
    "# Split into 97/3/3 for training/validation/testing\n",
    "val_perc_neg = 0.03\n",
    "test_perc_neg = 0.03\n",
    "total_neg = len(negative_dataset)\n",
    "val_size_neg = int(val_perc_neg * total_neg)\n",
    "test_size_neg = int(test_perc_neg * total_neg)\n",
    "train_size_neg = total_neg - val_size_neg - test_size_neg\n",
    "\n",
    "train_dataset_non_cd, val_dataset_non_cd, test_dataset_non_cd = random_split(negative_dataset, \n",
    "                                                                    [train_size_neg, val_size_neg, test_size_neg], \n",
    "                                                                    generator=torch.Generator().manual_seed(42))\n",
    "\n",
    "# Print info\n",
    "print('\\n')\n",
    "print(f\"{'':<30} {'Training':<30} {'Validation':<30} {'Testing':<30}\")\n",
    "print(f\"{'Percentage of non-CD dataset':<30} {str(int((1-val_perc_neg-test_perc_neg)*100))+'%':<30} {str(int(val_perc_neg*100))+'%':<30} {str(int(test_perc_neg*100))+'%':<30}\")\n",
    "print(f\"{'Number of non-CDs':<30} {str(len(train_dataset_non_cd)):<30} {str(len(val_dataset_non_cd)):<30} {str(len(test_dataset_non_cd)):<30}\")"
   ]
  },
  {
   "cell_type": "code",
   "execution_count": 6,
   "id": "696d36d8",
   "metadata": {},
   "outputs": [],
   "source": [
    "# === Functions: Data loaders ===\n",
    "def get_data_loaders(final_train_dataset, final_val_dataset, final_test_dataset):\n",
    "    batch_size = 32\n",
    "    \n",
    "    # Compute class weights for sampler\n",
    "    y_train = []\n",
    "    for data in final_train_dataset:\n",
    "        _, y = data\n",
    "        y_train.append(y)\n",
    "    y_train = torch.tensor(y_train)\n",
    "\n",
    "    # Calculate class counts and weights\n",
    "    class_counts = torch.bincount(y_train)\n",
    "    class_weights = 1. / class_counts.float()\n",
    "    sample_weights = class_weights[y_train]\n",
    "    \n",
    "    # Weighted random sampler for imbalanced data\n",
    "    sampler = WeightedRandomSampler(sample_weights, len(sample_weights))\n",
    "\n",
    "    # Create DataLoaders with samplers\n",
    "    train_loader = DataLoader(final_train_dataset, batch_size=batch_size, sampler=sampler)\n",
    "    val_loader = DataLoader(final_val_dataset, batch_size=batch_size, shuffle=False)\n",
    "    test_loader = DataLoader(final_test_dataset, batch_size=batch_size, shuffle=False)\n",
    "\n",
    "    return train_loader, val_loader, test_loader"
   ]
  },
  {
   "cell_type": "code",
   "execution_count": 7,
   "id": "1ef754ce",
   "metadata": {},
   "outputs": [
    {
     "name": "stdout",
     "output_type": "stream",
     "text": [
      "                               Training                       Validation                     Testing                       \n",
      "Number of samples              13627                          678                            651                           \n"
     ]
    }
   ],
   "source": [
    "# === Combine CD & Non-CD data ===\n",
    "\n",
    "# Create DataLoaders\n",
    "final_train_dataset = ConcatDataset([augmented_train_dataset_cd, train_dataset_non_cd])\n",
    "final_val_dataset = ConcatDataset([val_dataset_cd, val_dataset_non_cd])\n",
    "final_test_dataset = ConcatDataset([test_dataset_cd, test_dataset_non_cd])\n",
    "\n",
    "print(f\"{'':<30} {'Training':<30} {'Validation':<30} {'Testing':<30}\")\n",
    "print(f\"{'Number of samples':<30} {str(len(final_train_dataset)):<30} {str(len(final_val_dataset)):<30} {str(len(final_test_dataset)):<30}\")"
   ]
  },
  {
   "cell_type": "markdown",
   "id": "cc58f9d9",
   "metadata": {},
   "source": [
    "**Part II: Training and validating 2D CNN**"
   ]
  },
  {
   "cell_type": "code",
   "execution_count": 8,
   "id": "43d207f9",
   "metadata": {},
   "outputs": [
    {
     "name": "stdout",
     "output_type": "stream",
     "text": [
      "Device will run on cuda\n"
     ]
    }
   ],
   "source": [
    "# === Set device and parameters ===\n",
    "device = torch.device(\"cuda\") if torch.cuda.is_available() else torch.device(\"cpu\")\n",
    "print(f\"Device will run on {device}\")"
   ]
  },
  {
   "cell_type": "code",
   "execution_count": null,
   "id": "e0d72424",
   "metadata": {},
   "outputs": [],
   "source": [
    "# === Functions: CNN ===\n",
    "class CNN(nn.Module):\n",
    "    def __init__(self, trial, in_channels=4, num_classes=1):\n",
    "        super(CNN, self).__init__()\n",
    "        # Convolutional layers\n",
    "        self.conv1 = nn.Conv2d(in_channels, 32, kernel_size=3, stride=1, padding=1)\n",
    "        self.conv2 = nn.Conv2d(32, 64, kernel_size=3, stride=1, padding=1)\n",
    "        self.conv3 = nn.Conv2d(64, 128, kernel_size=3, stride=1, padding=1)\n",
    "        self.conv4 = nn.Conv2d(128, 256, kernel_size=3, stride=1, padding=1)\n",
    "\n",
    "        # Batch normalization layers\n",
    "        self.bn1 = nn.BatchNorm2d(32)\n",
    "        self.bn2 = nn.BatchNorm2d(64)\n",
    "        self.bn3 = nn.BatchNorm2d(128)\n",
    "        self.bn4 = nn.BatchNorm2d(256)\n",
    "       \n",
    "        # Max pooling layer\n",
    "        self.pool = nn.MaxPool2d(kernel_size=2, stride=2)\n",
    "\n",
    "        # Global average pooling layer\n",
    "        self.global_pool = nn.AdaptiveAvgPool2d((1, 1))\n",
    "\n",
    "        # Fully connected layers\n",
    "        self.fc1 = nn.Linear(256*1*1, 128)\n",
    "        self.fc2 = nn.Linear(128, 64)\n",
    "        self.output = nn.Linear(64, num_classes)\n",
    "\n",
    "        # Dropout layers\n",
    "        self.dropout = nn.Dropout(trial.suggest_float(\"dropout\", 0.2, 0.5)) #  > 0.4 for robustness!\n",
    "\n",
    "    def forward(self, x):\n",
    "        # Convolutional layers with ReLU activation & batch normalization \n",
    "        # & Max pooling layers\n",
    "        x = F.relu(self.bn1(self.conv1(x)))         # (batch, 32, 50, 50)\n",
    "        x = F.relu(self.bn2(self.conv2(x)))         # (batch, 64, 50, 50)\n",
    "        x = self.pool(x)                            # (batch, 64, 25, 25)\n",
    "        \n",
    "        x = F.relu(self.bn3(self.conv3(x)))         # (batch, 128, 25, 25)\n",
    "        x = F.relu(self.bn4(self.conv4(x)))         # (batch, 256, 25, 25)\n",
    "        x = self.pool(x)                            # (batch, 256, 12, 12)\n",
    "\n",
    "        # Average pooling layer\n",
    "        x = self.global_pool(x)                     # (batch, 256, 1, 1)\n",
    "        \n",
    "        # Flatten\n",
    "        x = torch.flatten(x, 1)                     # (batch, 256)\n",
    "\n",
    "        # Fully connected layers with ReLU activation \n",
    "        # & Dropout layers\n",
    "        x = self.dropout(F.relu(self.fc1(x)))      # (batch, 128)\n",
    "        x = self.dropout(F.relu(self.fc2(x)))      # (batch, 64)\n",
    "        x = self.output(x)                         # (batch, 1)\n",
    "\n",
    "        return x"
   ]
  },
  {
   "cell_type": "code",
   "execution_count": null,
   "id": "96e702f5",
   "metadata": {},
   "outputs": [],
   "source": [
    "def objective(trial):\n",
    "    # Get the CNN model\n",
    "    model = CNN(trial).to(device)\n",
    "\n",
    "    # Hyperparameter suggestions\n",
    "    optimizer_name = trial.suggest_categorical(\"optimizer\", [\"Adam\", \"RMSprop\", \"SGD\"]) # remove from optimization\n",
    "    lr = trial.suggest_float(\"lr\", 1e-5, 1e-1, log=True)\n",
    "    threshold = trial.suggest_float(\"threshold\", 0.3, 0.7)\n",
    "    optimizer = getattr(optim, optimizer_name)(model.parameters(), lr=lr)\n",
    "    n_epochs = trial.suggest_int(\"n_epochs\", 10, 50)\n",
    "    \n",
    "    # Load data\n",
    "    train_loader, valid_loader, _ = get_data_loaders(final_train_dataset, final_val_dataset, final_test_dataset)\n",
    "\n",
    "    # Compute class weights\n",
    "    train_labels = torch.cat([target for _, target in train_loader], dim=0)\n",
    "    pos_count = (train_labels == 1).sum().item()\n",
    "    neg_count = (train_labels == 0).sum().item()\n",
    "    pos_weight = torch.tensor([neg_count / pos_count]).to(device)\n",
    "\n",
    "    # Weighted binary classification loss\n",
    "    criterion = nn.BCEWithLogitsLoss(pos_weight=pos_weight)\n",
    "\n",
    "    best_f1 = 0\n",
    "    best_model_state = None\n",
    "\n",
    "    for epoch in range(n_epochs):\n",
    "        # Training\n",
    "        model.train()\n",
    "        for data, target in train_loader:\n",
    "            data, target = data.to(device), target.to(device).float()\n",
    "            output = model(data).squeeze(1)\n",
    "            loss = criterion(output, target)\n",
    "            optimizer.zero_grad()\n",
    "            loss.backward()\n",
    "            optimizer.step()\n",
    "\n",
    "        # Validation\n",
    "        model.eval()\n",
    "        all_preds, all_targets = [], []\n",
    "\n",
    "        with torch.no_grad():\n",
    "            for data, target in valid_loader:\n",
    "                data, target = data.to(device), target.to(device).float()\n",
    "                output = model(data).squeeze(1)\n",
    "                probs = torch.sigmoid(output)\n",
    "                preds = (probs >= threshold).long()\n",
    "\n",
    "                all_preds.extend(preds.cpu().numpy())\n",
    "                all_targets.extend(target.cpu().numpy())\n",
    "\n",
    "        # Compute F1 score\n",
    "        f1 = f1_score(all_targets, all_preds, zero_division=0)\n",
    "\n",
    "        # Report to Optuna\n",
    "        trial.report(f1, epoch)\n",
    "        # print out other metrics!\n",
    "        \n",
    "        # Save model if it's the best so far\n",
    "        if f1 > best_f1:\n",
    "            best_f1 = f1\n",
    "            best_model_state = model.state_dict()\n",
    "        # + save trial\n",
    "        # Early pruning\n",
    "        if trial.should_prune():\n",
    "            raise optuna.exceptions.TrialPruned()\n",
    "\n",
    "    # Save best model to file\n",
    "    if best_model_state is not None:\n",
    "        model_path = f\"best_model_trial_{trial.number}.pt\"\n",
    "        torch.save(best_model_state, model_path)\n",
    "        trial.set_user_attr(\"best_f1\", best_f1)\n",
    "        trial.set_user_attr(\"model_path\", model_path)\n",
    "\n",
    "    return best_f1"
   ]
  },
  {
   "cell_type": "code",
   "execution_count": 12,
   "id": "48ba3929",
   "metadata": {},
   "outputs": [
    {
     "name": "stderr",
     "output_type": "stream",
     "text": [
      "[I 2025-04-21 02:24:09,312] A new study created in memory with name: 2d-cnn\n",
      "[I 2025-04-21 02:53:18,499] Trial 0 finished with value: 0.826629680998613 and parameters: {'dropout': 0.27197663142745826, 'optimizer': 'Adam', 'lr': 0.012667116144181655, 'threshold': 0.6063605653208981, 'n_epochs': 35}. Best is trial 0 with value: 0.826629680998613.\n",
      "[I 2025-04-21 03:12:04,455] Trial 1 finished with value: 0.7694524495677233 and parameters: {'dropout': 0.43141579347390435, 'optimizer': 'RMSprop', 'lr': 0.0004250252009418519, 'threshold': 0.5856697172179299, 'n_epochs': 22}. Best is trial 0 with value: 0.826629680998613.\n",
      "[I 2025-04-21 03:48:12,646] Trial 2 finished with value: 0.8147100424328148 and parameters: {'dropout': 0.30020330379199467, 'optimizer': 'SGD', 'lr': 0.00422476927742103, 'threshold': 0.5593570876112246, 'n_epochs': 42}. Best is trial 0 with value: 0.826629680998613.\n",
      "[I 2025-04-21 04:04:42,610] Trial 3 finished with value: 0.8232118758434548 and parameters: {'dropout': 0.2788758781654634, 'optimizer': 'RMSprop', 'lr': 9.087086740881305e-05, 'threshold': 0.3064410780460456, 'n_epochs': 19}. Best is trial 0 with value: 0.826629680998613.\n",
      "[I 2025-04-21 04:41:13,992] Trial 4 finished with value: 0.7398373983739838 and parameters: {'dropout': 0.2196412919733562, 'optimizer': 'RMSprop', 'lr': 0.060631208485856916, 'threshold': 0.5573365636232179, 'n_epochs': 44}. Best is trial 0 with value: 0.826629680998613.\n",
      "[I 2025-04-21 04:42:09,989] Trial 5 pruned. \n",
      "[I 2025-04-21 04:43:06,553] Trial 6 pruned. \n",
      "[I 2025-04-21 04:44:03,197] Trial 7 pruned. \n",
      "[I 2025-04-21 04:44:59,261] Trial 8 pruned. \n",
      "[I 2025-04-21 04:45:54,988] Trial 9 pruned. \n",
      "[I 2025-04-21 04:46:50,652] Trial 10 pruned. \n",
      "[I 2025-04-21 05:16:14,253] Trial 11 finished with value: 0.8143053645116919 and parameters: {'dropout': 0.2738781141008575, 'optimizer': 'Adam', 'lr': 1.5626587657376553e-05, 'threshold': 0.3087851590879136, 'n_epochs': 34}. Best is trial 0 with value: 0.826629680998613.\n",
      "[I 2025-04-21 05:17:10,290] Trial 12 pruned. \n",
      "[I 2025-04-21 05:18:06,788] Trial 13 pruned. \n",
      "[I 2025-04-21 05:59:53,059] Trial 14 finished with value: 0.8344923504867872 and parameters: {'dropout': 0.25313375090550677, 'optimizer': 'Adam', 'lr': 0.012477965252499426, 'threshold': 0.3922250760335776, 'n_epochs': 50}. Best is trial 14 with value: 0.8344923504867872.\n",
      "[I 2025-04-21 06:00:53,532] Trial 15 pruned. \n",
      "[I 2025-04-21 06:01:50,880] Trial 16 pruned. \n",
      "[I 2025-04-21 06:02:47,710] Trial 17 pruned. \n",
      "[I 2025-04-21 06:03:44,492] Trial 18 pruned. \n",
      "[I 2025-04-21 06:04:42,457] Trial 19 pruned. \n",
      "[I 2025-04-21 06:05:39,191] Trial 20 pruned. \n",
      "[I 2025-04-21 06:20:59,700] Trial 21 finished with value: 0.8500590318772137 and parameters: {'dropout': 0.2763319374650917, 'optimizer': 'RMSprop', 'lr': 0.0002691777428248042, 'threshold': 0.30198935037206204, 'n_epochs': 17}. Best is trial 21 with value: 0.8500590318772137.\n",
      "[I 2025-04-21 06:21:57,483] Trial 22 pruned. \n",
      "[I 2025-04-21 06:45:29,128] Trial 23 finished with value: 0.8387096774193549 and parameters: {'dropout': 0.23416404232743876, 'optimizer': 'SGD', 'lr': 0.007020920160990761, 'threshold': 0.44388019868769446, 'n_epochs': 26}. Best is trial 21 with value: 0.8500590318772137.\n",
      "[I 2025-04-21 07:08:53,252] Trial 24 finished with value: 0.785876993166287 and parameters: {'dropout': 0.22801315768714528, 'optimizer': 'SGD', 'lr': 0.0002233204342752545, 'threshold': 0.43847987972811475, 'n_epochs': 26}. Best is trial 21 with value: 0.8500590318772137.\n",
      "[I 2025-04-21 07:31:37,576] Trial 25 finished with value: 0.7546346782988005 and parameters: {'dropout': 0.200876001323214, 'optimizer': 'SGD', 'lr': 0.0045482429383382275, 'threshold': 0.39042328047209035, 'n_epochs': 25}. Best is trial 21 with value: 0.8500590318772137.\n",
      "[I 2025-04-21 07:47:49,149] Trial 26 finished with value: 0.7644970414201183 and parameters: {'dropout': 0.29745569281136, 'optimizer': 'SGD', 'lr': 0.0012660138753290487, 'threshold': 0.33573471105955643, 'n_epochs': 18}. Best is trial 21 with value: 0.8500590318772137.\n",
      "[I 2025-04-21 08:08:10,815] Trial 27 finished with value: 0.7644970414201183 and parameters: {'dropout': 0.253815543344008, 'optimizer': 'SGD', 'lr': 0.0022131048999204004, 'threshold': 0.44797222587747104, 'n_epochs': 23}. Best is trial 21 with value: 0.8500590318772137.\n",
      "[I 2025-04-21 08:22:19,965] Trial 28 finished with value: 0.769857433808554 and parameters: {'dropout': 0.23986960372298563, 'optimizer': 'SGD', 'lr': 0.0002250142049334399, 'threshold': 0.4060921372764799, 'n_epochs': 16}. Best is trial 21 with value: 0.8500590318772137.\n",
      "[I 2025-04-21 08:46:20,709] Trial 29 finished with value: 0.8343711083437111 and parameters: {'dropout': 0.2645592507007568, 'optimizer': 'RMSprop', 'lr': 0.008923440792600634, 'threshold': 0.33789729399756163, 'n_epochs': 29}. Best is trial 21 with value: 0.8500590318772137.\n",
      "[I 2025-04-21 09:03:59,462] Trial 30 finished with value: 0.8206896551724138 and parameters: {'dropout': 0.3167465839141245, 'optimizer': 'RMSprop', 'lr': 0.0324174202348137, 'threshold': 0.3332480637314948, 'n_epochs': 21}. Best is trial 21 with value: 0.8500590318772137.\n",
      "[I 2025-04-21 09:29:47,444] Trial 31 finished with value: 0.8578811369509044 and parameters: {'dropout': 0.26342161601725145, 'optimizer': 'RMSprop', 'lr': 0.007803888337647896, 'threshold': 0.3364715499283712, 'n_epochs': 30}. Best is trial 31 with value: 0.8578811369509044.\n",
      "[I 2025-04-21 09:30:44,975] Trial 32 pruned. \n",
      "[I 2025-04-21 09:58:47,621] Trial 33 finished with value: 0.8216833095577746 and parameters: {'dropout': 0.22881378624956258, 'optimizer': 'RMSprop', 'lr': 0.0029787460134682985, 'threshold': 0.32497970471669996, 'n_epochs': 32}. Best is trial 31 with value: 0.8578811369509044.\n",
      "[I 2025-04-21 09:59:44,395] Trial 34 pruned. \n",
      "[I 2025-04-21 10:23:18,190] Trial 35 finished with value: 0.8567567567567568 and parameters: {'dropout': 0.21633851538746882, 'optimizer': 'RMSprop', 'lr': 0.005007633086599467, 'threshold': 0.30259660354489004, 'n_epochs': 27}. Best is trial 31 with value: 0.8578811369509044.\n",
      "[I 2025-04-21 10:24:16,207] Trial 36 pruned. \n",
      "[I 2025-04-21 10:25:13,391] Trial 37 pruned. \n",
      "[I 2025-04-21 10:26:10,146] Trial 38 pruned. \n",
      "[I 2025-04-21 10:27:08,083] Trial 39 pruned. \n",
      "[I 2025-04-21 10:28:04,932] Trial 40 pruned. \n",
      "[I 2025-04-21 10:29:02,115] Trial 41 pruned. \n",
      "[I 2025-04-21 10:29:58,446] Trial 42 pruned. \n",
      "[I 2025-04-21 10:46:45,220] Trial 43 finished with value: 0.7779204107830552 and parameters: {'dropout': 0.21424522939183277, 'optimizer': 'SGD', 'lr': 0.0037817203753544647, 'threshold': 0.4724582519830509, 'n_epochs': 19}. Best is trial 31 with value: 0.8578811369509044.\n",
      "[I 2025-04-21 10:47:42,104] Trial 44 pruned. \n",
      "[I 2025-04-21 10:48:38,659] Trial 45 pruned. \n",
      "[I 2025-04-21 10:49:37,018] Trial 46 pruned. \n",
      "[I 2025-04-21 10:58:29,217] Trial 47 finished with value: 0.7159090909090909 and parameters: {'dropout': 0.42491603177989723, 'optimizer': 'SGD', 'lr': 3.143071781137103e-05, 'threshold': 0.3220408460092845, 'n_epochs': 10}. Best is trial 31 with value: 0.8578811369509044.\n",
      "[I 2025-04-21 11:09:36,503] Trial 48 pruned. \n",
      "[I 2025-04-21 11:10:33,505] Trial 49 pruned. \n",
      "[I 2025-04-21 11:11:31,158] Trial 50 pruned. \n",
      "[I 2025-04-21 11:12:31,042] Trial 51 pruned. \n",
      "[I 2025-04-21 11:35:17,238] Trial 52 finished with value: 0.8660351826792964 and parameters: {'dropout': 0.25781853204347294, 'optimizer': 'RMSprop', 'lr': 0.007049441194953592, 'threshold': 0.31738751822892436, 'n_epochs': 26}. Best is trial 52 with value: 0.8660351826792964.\n",
      "[I 2025-04-21 11:36:14,270] Trial 53 pruned. \n",
      "[I 2025-04-21 11:37:11,150] Trial 54 pruned. \n",
      "[I 2025-04-21 11:38:08,440] Trial 55 pruned. \n",
      "[I 2025-04-21 11:39:05,695] Trial 56 pruned. \n",
      "[I 2025-04-21 11:58:34,128] Trial 57 finished with value: 0.8412698412698413 and parameters: {'dropout': 0.2973826008644683, 'optimizer': 'SGD', 'lr': 0.023154268476757497, 'threshold': 0.31793383982416423, 'n_epochs': 22}. Best is trial 52 with value: 0.8660351826792964.\n",
      "[I 2025-04-21 11:59:31,146] Trial 58 pruned. \n",
      "[I 2025-04-21 12:00:28,243] Trial 59 pruned. \n",
      "[I 2025-04-21 12:01:25,512] Trial 60 pruned. \n",
      "[I 2025-04-21 12:02:22,842] Trial 61 pruned. \n",
      "[I 2025-04-21 12:29:17,603] Trial 62 finished with value: 0.8545688545688546 and parameters: {'dropout': 0.24259362132804416, 'optimizer': 'Adam', 'lr': 0.013933728644895092, 'threshold': 0.32776344839223437, 'n_epochs': 31}. Best is trial 52 with value: 0.8660351826792964.\n",
      "[I 2025-04-21 12:30:14,729] Trial 63 pruned. \n",
      "[I 2025-04-21 12:55:57,155] Trial 64 finished with value: 0.8792884371029225 and parameters: {'dropout': 0.30582492420491686, 'optimizer': 'Adam', 'lr': 0.003672813731830048, 'threshold': 0.32851778467586, 'n_epochs': 29}. Best is trial 64 with value: 0.8792884371029225.\n",
      "[I 2025-04-21 13:22:30,370] Trial 65 finished with value: 0.8719211822660099 and parameters: {'dropout': 0.3102985602489206, 'optimizer': 'Adam', 'lr': 0.003771951472168353, 'threshold': 0.3265703825130299, 'n_epochs': 30}. Best is trial 64 with value: 0.8792884371029225.\n",
      "[I 2025-04-21 13:23:27,603] Trial 66 pruned. \n",
      "[I 2025-04-21 13:24:24,635] Trial 67 pruned. \n",
      "[I 2025-04-21 13:25:22,196] Trial 68 pruned. \n",
      "[I 2025-04-21 13:26:19,768] Trial 69 pruned. \n",
      "[I 2025-04-21 13:27:17,934] Trial 70 pruned. \n",
      "[I 2025-04-21 13:53:20,517] Trial 71 finished with value: 0.8656330749354005 and parameters: {'dropout': 0.29141114707752996, 'optimizer': 'Adam', 'lr': 0.014952272092878128, 'threshold': 0.3218324808968051, 'n_epochs': 30}. Best is trial 64 with value: 0.8792884371029225.\n",
      "[I 2025-04-21 13:54:17,937] Trial 72 pruned. \n",
      "[I 2025-04-21 13:55:15,309] Trial 73 pruned. \n",
      "[I 2025-04-21 13:56:12,746] Trial 74 pruned. \n",
      "[I 2025-04-21 13:57:10,157] Trial 75 pruned. \n",
      "[I 2025-04-21 13:58:07,729] Trial 76 pruned. \n",
      "[I 2025-04-21 14:22:05,496] Trial 77 finished with value: 0.8593350383631714 and parameters: {'dropout': 0.25791030721100666, 'optimizer': 'Adam', 'lr': 0.004645457065696379, 'threshold': 0.31340743857623476, 'n_epochs': 27}. Best is trial 64 with value: 0.8792884371029225.\n",
      "[I 2025-04-21 14:46:02,894] Trial 78 finished with value: 0.8530559167750326 and parameters: {'dropout': 0.24783916137620837, 'optimizer': 'Adam', 'lr': 0.004875836444433398, 'threshold': 0.3154403680268073, 'n_epochs': 27}. Best is trial 64 with value: 0.8792884371029225.\n",
      "[I 2025-04-21 14:46:59,934] Trial 79 pruned. \n",
      "[I 2025-04-21 14:47:57,555] Trial 80 pruned. \n",
      "[I 2025-04-21 15:12:38,320] Trial 81 finished with value: 0.8525798525798526 and parameters: {'dropout': 0.24511296683065942, 'optimizer': 'Adam', 'lr': 0.004826695414407572, 'threshold': 0.3131415684688764, 'n_epochs': 28}. Best is trial 64 with value: 0.8792884371029225.\n",
      "[I 2025-04-21 15:13:37,401] Trial 82 pruned. \n",
      "[I 2025-04-21 15:36:42,854] Trial 83 finished with value: 0.8553299492385786 and parameters: {'dropout': 0.22085966610366148, 'optimizer': 'Adam', 'lr': 0.004095170473416804, 'threshold': 0.3129095528528715, 'n_epochs': 26}. Best is trial 64 with value: 0.8792884371029225.\n",
      "[I 2025-04-21 15:37:40,261] Trial 84 pruned. \n",
      "[I 2025-04-21 16:04:35,841] Trial 85 finished with value: 0.8321964529331515 and parameters: {'dropout': 0.2772460613008655, 'optimizer': 'Adam', 'lr': 0.01434885859503018, 'threshold': 0.3277940322300187, 'n_epochs': 31}. Best is trial 64 with value: 0.8792884371029225.\n",
      "[I 2025-04-21 16:05:33,280] Trial 86 pruned. \n",
      "[I 2025-04-21 16:32:13,469] Trial 87 finished with value: 0.8513189448441247 and parameters: {'dropout': 0.2619402042868506, 'optimizer': 'Adam', 'lr': 0.007404328454859699, 'threshold': 0.30971583534382835, 'n_epochs': 30}. Best is trial 64 with value: 0.8792884371029225.\n",
      "[I 2025-04-21 16:33:10,630] Trial 88 pruned. \n",
      "[I 2025-04-21 16:34:08,093] Trial 89 pruned. \n",
      "[I 2025-04-21 16:35:05,311] Trial 90 pruned. \n",
      "[I 2025-04-21 16:58:49,386] Trial 91 finished with value: 0.8980099502487562 and parameters: {'dropout': 0.26906734129878085, 'optimizer': 'Adam', 'lr': 0.005827299064657496, 'threshold': 0.3155485006760434, 'n_epochs': 27}. Best is trial 91 with value: 0.8980099502487562.\n",
      "[I 2025-04-21 16:59:47,193] Trial 92 pruned. \n",
      "[I 2025-04-21 17:00:44,579] Trial 93 pruned. \n",
      "[I 2025-04-21 17:01:41,971] Trial 94 pruned. \n",
      "[I 2025-04-21 17:27:33,806] Trial 95 finished with value: 0.8370273794002607 and parameters: {'dropout': 0.30320936277215843, 'optimizer': 'RMSprop', 'lr': 0.033704308446127144, 'threshold': 0.32565705520387994, 'n_epochs': 30}. Best is trial 91 with value: 0.8980099502487562.\n",
      "[I 2025-04-21 17:28:31,114] Trial 96 pruned. \n",
      "[I 2025-04-21 17:29:28,051] Trial 97 pruned. \n",
      "[I 2025-04-21 17:30:26,015] Trial 98 pruned. \n",
      "[I 2025-04-21 17:59:42,285] Trial 99 finished with value: 0.8567639257294429 and parameters: {'dropout': 0.23811768033469083, 'optimizer': 'RMSprop', 'lr': 0.003914666747360517, 'threshold': 0.3536552252521136, 'n_epochs': 33}. Best is trial 91 with value: 0.8980099502487562.\n"
     ]
    },
    {
     "name": "stdout",
     "output_type": "stream",
     "text": [
      "\n",
      "Study summary:\n",
      "  Finished trials     : 100\n",
      "  Pruned trials       : 64\n",
      "  Completed trials    : 36\n",
      "\n",
      "Best Trial #91\n",
      "  Best F1 score       : 0.8980\n",
      "  Best hyperparameters:\n",
      "    dropout        : 0.26906734129878085\n",
      "    optimizer      : Adam\n",
      "    lr             : 0.005827299064657496\n",
      "    threshold      : 0.3155485006760434\n",
      "    n_epochs       : 27\n"
     ]
    }
   ],
   "source": [
    "# === Optuna study ===\n",
    "if __name__ == \"__main__\":\n",
    "    study = optuna.create_study(direction=\"maximize\", study_name=\"2d-cnn\")\n",
    "    study.optimize(objective, n_trials=100)\n",
    "\n",
    "    pruned_trials = study.get_trials(deepcopy=False, states=[TrialState.PRUNED])\n",
    "    complete_trials = study.get_trials(deepcopy=False, states=[TrialState.COMPLETE])\n",
    "\n",
    "best_trial = study.best_trial\n",
    "print(\"\\nStudy summary:\")\n",
    "print(f\"  Finished trials     : {len(study.trials)}\")\n",
    "print(f\"  Pruned trials       : {len(pruned_trials)}\")\n",
    "print(f\"  Completed trials    : {len(complete_trials)}\")\n",
    "print(f\"\\nBest Trial #{best_trial.number}\")\n",
    "print(f\"  Best F1 score       : {best_trial.value:.4f}\")\n",
    "print(\"  Best hyperparameters:\")\n",
    "for key, value in best_trial.params.items():\n",
    "    print(f\"    {key:<15}: {value}\")"
   ]
  },
  {
   "cell_type": "code",
   "execution_count": 13,
   "id": "fadf7000",
   "metadata": {},
   "outputs": [
    {
     "data": {
      "application/vnd.plotly.v1+json": {
       "config": {
        "plotlyServerURL": "https://plot.ly"
       },
       "data": [
        {
         "cliponaxis": false,
         "hovertemplate": [
          "optimizer (CategoricalDistribution): 0.14012840000655644<extra></extra>",
          "dropout (FloatDistribution): 0.17634796267842373<extra></extra>",
          "lr (FloatDistribution): 0.19231634234227007<extra></extra>",
          "threshold (FloatDistribution): 0.24491087152202354<extra></extra>",
          "n_epochs (IntDistribution): 0.2462964234507262<extra></extra>"
         ],
         "name": "Objective Value",
         "orientation": "h",
         "text": [
          "0.14",
          "0.18",
          "0.19",
          "0.24",
          "0.25"
         ],
         "textposition": "outside",
         "type": "bar",
         "x": [
          0.14012840000655644,
          0.17634796267842373,
          0.19231634234227007,
          0.24491087152202354,
          0.2462964234507262
         ],
         "y": [
          "optimizer",
          "dropout",
          "lr",
          "threshold",
          "n_epochs"
         ]
        }
       ],
       "layout": {
        "template": {
         "data": {
          "bar": [
           {
            "error_x": {
             "color": "#2a3f5f"
            },
            "error_y": {
             "color": "#2a3f5f"
            },
            "marker": {
             "line": {
              "color": "#E5ECF6",
              "width": 0.5
             },
             "pattern": {
              "fillmode": "overlay",
              "size": 10,
              "solidity": 0.2
             }
            },
            "type": "bar"
           }
          ],
          "barpolar": [
           {
            "marker": {
             "line": {
              "color": "#E5ECF6",
              "width": 0.5
             },
             "pattern": {
              "fillmode": "overlay",
              "size": 10,
              "solidity": 0.2
             }
            },
            "type": "barpolar"
           }
          ],
          "carpet": [
           {
            "aaxis": {
             "endlinecolor": "#2a3f5f",
             "gridcolor": "white",
             "linecolor": "white",
             "minorgridcolor": "white",
             "startlinecolor": "#2a3f5f"
            },
            "baxis": {
             "endlinecolor": "#2a3f5f",
             "gridcolor": "white",
             "linecolor": "white",
             "minorgridcolor": "white",
             "startlinecolor": "#2a3f5f"
            },
            "type": "carpet"
           }
          ],
          "choropleth": [
           {
            "colorbar": {
             "outlinewidth": 0,
             "ticks": ""
            },
            "type": "choropleth"
           }
          ],
          "contour": [
           {
            "colorbar": {
             "outlinewidth": 0,
             "ticks": ""
            },
            "colorscale": [
             [
              0,
              "#0d0887"
             ],
             [
              0.1111111111111111,
              "#46039f"
             ],
             [
              0.2222222222222222,
              "#7201a8"
             ],
             [
              0.3333333333333333,
              "#9c179e"
             ],
             [
              0.4444444444444444,
              "#bd3786"
             ],
             [
              0.5555555555555556,
              "#d8576b"
             ],
             [
              0.6666666666666666,
              "#ed7953"
             ],
             [
              0.7777777777777778,
              "#fb9f3a"
             ],
             [
              0.8888888888888888,
              "#fdca26"
             ],
             [
              1,
              "#f0f921"
             ]
            ],
            "type": "contour"
           }
          ],
          "contourcarpet": [
           {
            "colorbar": {
             "outlinewidth": 0,
             "ticks": ""
            },
            "type": "contourcarpet"
           }
          ],
          "heatmap": [
           {
            "colorbar": {
             "outlinewidth": 0,
             "ticks": ""
            },
            "colorscale": [
             [
              0,
              "#0d0887"
             ],
             [
              0.1111111111111111,
              "#46039f"
             ],
             [
              0.2222222222222222,
              "#7201a8"
             ],
             [
              0.3333333333333333,
              "#9c179e"
             ],
             [
              0.4444444444444444,
              "#bd3786"
             ],
             [
              0.5555555555555556,
              "#d8576b"
             ],
             [
              0.6666666666666666,
              "#ed7953"
             ],
             [
              0.7777777777777778,
              "#fb9f3a"
             ],
             [
              0.8888888888888888,
              "#fdca26"
             ],
             [
              1,
              "#f0f921"
             ]
            ],
            "type": "heatmap"
           }
          ],
          "histogram": [
           {
            "marker": {
             "pattern": {
              "fillmode": "overlay",
              "size": 10,
              "solidity": 0.2
             }
            },
            "type": "histogram"
           }
          ],
          "histogram2d": [
           {
            "colorbar": {
             "outlinewidth": 0,
             "ticks": ""
            },
            "colorscale": [
             [
              0,
              "#0d0887"
             ],
             [
              0.1111111111111111,
              "#46039f"
             ],
             [
              0.2222222222222222,
              "#7201a8"
             ],
             [
              0.3333333333333333,
              "#9c179e"
             ],
             [
              0.4444444444444444,
              "#bd3786"
             ],
             [
              0.5555555555555556,
              "#d8576b"
             ],
             [
              0.6666666666666666,
              "#ed7953"
             ],
             [
              0.7777777777777778,
              "#fb9f3a"
             ],
             [
              0.8888888888888888,
              "#fdca26"
             ],
             [
              1,
              "#f0f921"
             ]
            ],
            "type": "histogram2d"
           }
          ],
          "histogram2dcontour": [
           {
            "colorbar": {
             "outlinewidth": 0,
             "ticks": ""
            },
            "colorscale": [
             [
              0,
              "#0d0887"
             ],
             [
              0.1111111111111111,
              "#46039f"
             ],
             [
              0.2222222222222222,
              "#7201a8"
             ],
             [
              0.3333333333333333,
              "#9c179e"
             ],
             [
              0.4444444444444444,
              "#bd3786"
             ],
             [
              0.5555555555555556,
              "#d8576b"
             ],
             [
              0.6666666666666666,
              "#ed7953"
             ],
             [
              0.7777777777777778,
              "#fb9f3a"
             ],
             [
              0.8888888888888888,
              "#fdca26"
             ],
             [
              1,
              "#f0f921"
             ]
            ],
            "type": "histogram2dcontour"
           }
          ],
          "mesh3d": [
           {
            "colorbar": {
             "outlinewidth": 0,
             "ticks": ""
            },
            "type": "mesh3d"
           }
          ],
          "parcoords": [
           {
            "line": {
             "colorbar": {
              "outlinewidth": 0,
              "ticks": ""
             }
            },
            "type": "parcoords"
           }
          ],
          "pie": [
           {
            "automargin": true,
            "type": "pie"
           }
          ],
          "scatter": [
           {
            "fillpattern": {
             "fillmode": "overlay",
             "size": 10,
             "solidity": 0.2
            },
            "type": "scatter"
           }
          ],
          "scatter3d": [
           {
            "line": {
             "colorbar": {
              "outlinewidth": 0,
              "ticks": ""
             }
            },
            "marker": {
             "colorbar": {
              "outlinewidth": 0,
              "ticks": ""
             }
            },
            "type": "scatter3d"
           }
          ],
          "scattercarpet": [
           {
            "marker": {
             "colorbar": {
              "outlinewidth": 0,
              "ticks": ""
             }
            },
            "type": "scattercarpet"
           }
          ],
          "scattergeo": [
           {
            "marker": {
             "colorbar": {
              "outlinewidth": 0,
              "ticks": ""
             }
            },
            "type": "scattergeo"
           }
          ],
          "scattergl": [
           {
            "marker": {
             "colorbar": {
              "outlinewidth": 0,
              "ticks": ""
             }
            },
            "type": "scattergl"
           }
          ],
          "scattermap": [
           {
            "marker": {
             "colorbar": {
              "outlinewidth": 0,
              "ticks": ""
             }
            },
            "type": "scattermap"
           }
          ],
          "scattermapbox": [
           {
            "marker": {
             "colorbar": {
              "outlinewidth": 0,
              "ticks": ""
             }
            },
            "type": "scattermapbox"
           }
          ],
          "scatterpolar": [
           {
            "marker": {
             "colorbar": {
              "outlinewidth": 0,
              "ticks": ""
             }
            },
            "type": "scatterpolar"
           }
          ],
          "scatterpolargl": [
           {
            "marker": {
             "colorbar": {
              "outlinewidth": 0,
              "ticks": ""
             }
            },
            "type": "scatterpolargl"
           }
          ],
          "scatterternary": [
           {
            "marker": {
             "colorbar": {
              "outlinewidth": 0,
              "ticks": ""
             }
            },
            "type": "scatterternary"
           }
          ],
          "surface": [
           {
            "colorbar": {
             "outlinewidth": 0,
             "ticks": ""
            },
            "colorscale": [
             [
              0,
              "#0d0887"
             ],
             [
              0.1111111111111111,
              "#46039f"
             ],
             [
              0.2222222222222222,
              "#7201a8"
             ],
             [
              0.3333333333333333,
              "#9c179e"
             ],
             [
              0.4444444444444444,
              "#bd3786"
             ],
             [
              0.5555555555555556,
              "#d8576b"
             ],
             [
              0.6666666666666666,
              "#ed7953"
             ],
             [
              0.7777777777777778,
              "#fb9f3a"
             ],
             [
              0.8888888888888888,
              "#fdca26"
             ],
             [
              1,
              "#f0f921"
             ]
            ],
            "type": "surface"
           }
          ],
          "table": [
           {
            "cells": {
             "fill": {
              "color": "#EBF0F8"
             },
             "line": {
              "color": "white"
             }
            },
            "header": {
             "fill": {
              "color": "#C8D4E3"
             },
             "line": {
              "color": "white"
             }
            },
            "type": "table"
           }
          ]
         },
         "layout": {
          "annotationdefaults": {
           "arrowcolor": "#2a3f5f",
           "arrowhead": 0,
           "arrowwidth": 1
          },
          "autotypenumbers": "strict",
          "coloraxis": {
           "colorbar": {
            "outlinewidth": 0,
            "ticks": ""
           }
          },
          "colorscale": {
           "diverging": [
            [
             0,
             "#8e0152"
            ],
            [
             0.1,
             "#c51b7d"
            ],
            [
             0.2,
             "#de77ae"
            ],
            [
             0.3,
             "#f1b6da"
            ],
            [
             0.4,
             "#fde0ef"
            ],
            [
             0.5,
             "#f7f7f7"
            ],
            [
             0.6,
             "#e6f5d0"
            ],
            [
             0.7,
             "#b8e186"
            ],
            [
             0.8,
             "#7fbc41"
            ],
            [
             0.9,
             "#4d9221"
            ],
            [
             1,
             "#276419"
            ]
           ],
           "sequential": [
            [
             0,
             "#0d0887"
            ],
            [
             0.1111111111111111,
             "#46039f"
            ],
            [
             0.2222222222222222,
             "#7201a8"
            ],
            [
             0.3333333333333333,
             "#9c179e"
            ],
            [
             0.4444444444444444,
             "#bd3786"
            ],
            [
             0.5555555555555556,
             "#d8576b"
            ],
            [
             0.6666666666666666,
             "#ed7953"
            ],
            [
             0.7777777777777778,
             "#fb9f3a"
            ],
            [
             0.8888888888888888,
             "#fdca26"
            ],
            [
             1,
             "#f0f921"
            ]
           ],
           "sequentialminus": [
            [
             0,
             "#0d0887"
            ],
            [
             0.1111111111111111,
             "#46039f"
            ],
            [
             0.2222222222222222,
             "#7201a8"
            ],
            [
             0.3333333333333333,
             "#9c179e"
            ],
            [
             0.4444444444444444,
             "#bd3786"
            ],
            [
             0.5555555555555556,
             "#d8576b"
            ],
            [
             0.6666666666666666,
             "#ed7953"
            ],
            [
             0.7777777777777778,
             "#fb9f3a"
            ],
            [
             0.8888888888888888,
             "#fdca26"
            ],
            [
             1,
             "#f0f921"
            ]
           ]
          },
          "colorway": [
           "#636efa",
           "#EF553B",
           "#00cc96",
           "#ab63fa",
           "#FFA15A",
           "#19d3f3",
           "#FF6692",
           "#B6E880",
           "#FF97FF",
           "#FECB52"
          ],
          "font": {
           "color": "#2a3f5f"
          },
          "geo": {
           "bgcolor": "white",
           "lakecolor": "white",
           "landcolor": "#E5ECF6",
           "showlakes": true,
           "showland": true,
           "subunitcolor": "white"
          },
          "hoverlabel": {
           "align": "left"
          },
          "hovermode": "closest",
          "mapbox": {
           "style": "light"
          },
          "paper_bgcolor": "white",
          "plot_bgcolor": "#E5ECF6",
          "polar": {
           "angularaxis": {
            "gridcolor": "white",
            "linecolor": "white",
            "ticks": ""
           },
           "bgcolor": "#E5ECF6",
           "radialaxis": {
            "gridcolor": "white",
            "linecolor": "white",
            "ticks": ""
           }
          },
          "scene": {
           "xaxis": {
            "backgroundcolor": "#E5ECF6",
            "gridcolor": "white",
            "gridwidth": 2,
            "linecolor": "white",
            "showbackground": true,
            "ticks": "",
            "zerolinecolor": "white"
           },
           "yaxis": {
            "backgroundcolor": "#E5ECF6",
            "gridcolor": "white",
            "gridwidth": 2,
            "linecolor": "white",
            "showbackground": true,
            "ticks": "",
            "zerolinecolor": "white"
           },
           "zaxis": {
            "backgroundcolor": "#E5ECF6",
            "gridcolor": "white",
            "gridwidth": 2,
            "linecolor": "white",
            "showbackground": true,
            "ticks": "",
            "zerolinecolor": "white"
           }
          },
          "shapedefaults": {
           "line": {
            "color": "#2a3f5f"
           }
          },
          "ternary": {
           "aaxis": {
            "gridcolor": "white",
            "linecolor": "white",
            "ticks": ""
           },
           "baxis": {
            "gridcolor": "white",
            "linecolor": "white",
            "ticks": ""
           },
           "bgcolor": "#E5ECF6",
           "caxis": {
            "gridcolor": "white",
            "linecolor": "white",
            "ticks": ""
           }
          },
          "title": {
           "x": 0.05
          },
          "xaxis": {
           "automargin": true,
           "gridcolor": "white",
           "linecolor": "white",
           "ticks": "",
           "title": {
            "standoff": 15
           },
           "zerolinecolor": "white",
           "zerolinewidth": 2
          },
          "yaxis": {
           "automargin": true,
           "gridcolor": "white",
           "linecolor": "white",
           "ticks": "",
           "title": {
            "standoff": 15
           },
           "zerolinecolor": "white",
           "zerolinewidth": 2
          }
         }
        },
        "title": {
         "text": "Hyperparameter Importances"
        },
        "xaxis": {
         "title": {
          "text": "Hyperparameter Importance"
         }
        },
        "yaxis": {
         "title": {
          "text": "Hyperparameter"
         }
        }
       }
      }
     },
     "metadata": {},
     "output_type": "display_data"
    }
   ],
   "source": [
    "optuna.visualization.plot_param_importances(study)"
   ]
  },
  {
   "cell_type": "code",
   "execution_count": 14,
   "id": "e378cb77",
   "metadata": {},
   "outputs": [
    {
     "data": {
      "application/vnd.plotly.v1+json": {
       "config": {
        "plotlyServerURL": "https://plot.ly"
       },
       "data": [
        {
         "mode": "markers",
         "name": "f1",
         "type": "scatter",
         "x": [
          0,
          1,
          2,
          3,
          4,
          11,
          14,
          21,
          23,
          24,
          25,
          26,
          27,
          28,
          29,
          30,
          31,
          33,
          35,
          43,
          47,
          52,
          57,
          62,
          64,
          65,
          71,
          77,
          78,
          81,
          83,
          85,
          87,
          91,
          95,
          99
         ],
         "y": [
          0.826629680998613,
          0.7694524495677233,
          0.8147100424328148,
          0.8232118758434548,
          0.7398373983739838,
          0.8143053645116919,
          0.8344923504867872,
          0.8500590318772137,
          0.8387096774193549,
          0.785876993166287,
          0.7546346782988005,
          0.7644970414201183,
          0.7644970414201183,
          0.769857433808554,
          0.8343711083437111,
          0.8206896551724138,
          0.8578811369509044,
          0.8216833095577746,
          0.8567567567567568,
          0.7779204107830552,
          0.7159090909090909,
          0.8660351826792964,
          0.8412698412698413,
          0.8545688545688546,
          0.8792884371029225,
          0.8719211822660099,
          0.8656330749354005,
          0.8593350383631714,
          0.8530559167750326,
          0.8525798525798526,
          0.8553299492385786,
          0.8321964529331515,
          0.8513189448441247,
          0.8980099502487562,
          0.8370273794002607,
          0.8567639257294429
         ]
        },
        {
         "mode": "lines",
         "name": "Best Value",
         "type": "scatter",
         "x": [
          0,
          1,
          2,
          3,
          4,
          5,
          6,
          7,
          8,
          9,
          10,
          11,
          12,
          13,
          14,
          15,
          16,
          17,
          18,
          19,
          20,
          21,
          22,
          23,
          24,
          25,
          26,
          27,
          28,
          29,
          30,
          31,
          32,
          33,
          34,
          35,
          36,
          37,
          38,
          39,
          40,
          41,
          42,
          43,
          44,
          45,
          46,
          47,
          48,
          49,
          50,
          51,
          52,
          53,
          54,
          55,
          56,
          57,
          58,
          59,
          60,
          61,
          62,
          63,
          64,
          65,
          66,
          67,
          68,
          69,
          70,
          71,
          72,
          73,
          74,
          75,
          76,
          77,
          78,
          79,
          80,
          81,
          82,
          83,
          84,
          85,
          86,
          87,
          88,
          89,
          90,
          91,
          92,
          93,
          94,
          95,
          96,
          97,
          98,
          99
         ],
         "y": [
          0.826629680998613,
          0.826629680998613,
          0.826629680998613,
          0.826629680998613,
          0.826629680998613,
          0.826629680998613,
          0.826629680998613,
          0.826629680998613,
          0.826629680998613,
          0.826629680998613,
          0.826629680998613,
          0.826629680998613,
          0.826629680998613,
          0.826629680998613,
          0.8344923504867872,
          0.8344923504867872,
          0.8344923504867872,
          0.8344923504867872,
          0.8344923504867872,
          0.8344923504867872,
          0.8344923504867872,
          0.8500590318772137,
          0.8500590318772137,
          0.8500590318772137,
          0.8500590318772137,
          0.8500590318772137,
          0.8500590318772137,
          0.8500590318772137,
          0.8500590318772137,
          0.8500590318772137,
          0.8500590318772137,
          0.8578811369509044,
          0.8578811369509044,
          0.8578811369509044,
          0.8578811369509044,
          0.8578811369509044,
          0.8578811369509044,
          0.8578811369509044,
          0.8578811369509044,
          0.8578811369509044,
          0.8578811369509044,
          0.8578811369509044,
          0.8578811369509044,
          0.8578811369509044,
          0.8578811369509044,
          0.8578811369509044,
          0.8578811369509044,
          0.8578811369509044,
          0.8578811369509044,
          0.8578811369509044,
          0.8578811369509044,
          0.8578811369509044,
          0.8660351826792964,
          0.8660351826792964,
          0.8660351826792964,
          0.8660351826792964,
          0.8660351826792964,
          0.8660351826792964,
          0.8660351826792964,
          0.8660351826792964,
          0.8660351826792964,
          0.8660351826792964,
          0.8660351826792964,
          0.8660351826792964,
          0.8792884371029225,
          0.8792884371029225,
          0.8792884371029225,
          0.8792884371029225,
          0.8792884371029225,
          0.8792884371029225,
          0.8792884371029225,
          0.8792884371029225,
          0.8792884371029225,
          0.8792884371029225,
          0.8792884371029225,
          0.8792884371029225,
          0.8792884371029225,
          0.8792884371029225,
          0.8792884371029225,
          0.8792884371029225,
          0.8792884371029225,
          0.8792884371029225,
          0.8792884371029225,
          0.8792884371029225,
          0.8792884371029225,
          0.8792884371029225,
          0.8792884371029225,
          0.8792884371029225,
          0.8792884371029225,
          0.8792884371029225,
          0.8792884371029225,
          0.8980099502487562,
          0.8980099502487562,
          0.8980099502487562,
          0.8980099502487562,
          0.8980099502487562,
          0.8980099502487562,
          0.8980099502487562,
          0.8980099502487562,
          0.8980099502487562
         ]
        },
        {
         "marker": {
          "color": "#cccccc"
         },
         "mode": "markers",
         "name": "Infeasible Trial",
         "showlegend": false,
         "type": "scatter",
         "x": [],
         "y": []
        }
       ],
       "layout": {
        "template": {
         "data": {
          "bar": [
           {
            "error_x": {
             "color": "#2a3f5f"
            },
            "error_y": {
             "color": "#2a3f5f"
            },
            "marker": {
             "line": {
              "color": "#E5ECF6",
              "width": 0.5
             },
             "pattern": {
              "fillmode": "overlay",
              "size": 10,
              "solidity": 0.2
             }
            },
            "type": "bar"
           }
          ],
          "barpolar": [
           {
            "marker": {
             "line": {
              "color": "#E5ECF6",
              "width": 0.5
             },
             "pattern": {
              "fillmode": "overlay",
              "size": 10,
              "solidity": 0.2
             }
            },
            "type": "barpolar"
           }
          ],
          "carpet": [
           {
            "aaxis": {
             "endlinecolor": "#2a3f5f",
             "gridcolor": "white",
             "linecolor": "white",
             "minorgridcolor": "white",
             "startlinecolor": "#2a3f5f"
            },
            "baxis": {
             "endlinecolor": "#2a3f5f",
             "gridcolor": "white",
             "linecolor": "white",
             "minorgridcolor": "white",
             "startlinecolor": "#2a3f5f"
            },
            "type": "carpet"
           }
          ],
          "choropleth": [
           {
            "colorbar": {
             "outlinewidth": 0,
             "ticks": ""
            },
            "type": "choropleth"
           }
          ],
          "contour": [
           {
            "colorbar": {
             "outlinewidth": 0,
             "ticks": ""
            },
            "colorscale": [
             [
              0,
              "#0d0887"
             ],
             [
              0.1111111111111111,
              "#46039f"
             ],
             [
              0.2222222222222222,
              "#7201a8"
             ],
             [
              0.3333333333333333,
              "#9c179e"
             ],
             [
              0.4444444444444444,
              "#bd3786"
             ],
             [
              0.5555555555555556,
              "#d8576b"
             ],
             [
              0.6666666666666666,
              "#ed7953"
             ],
             [
              0.7777777777777778,
              "#fb9f3a"
             ],
             [
              0.8888888888888888,
              "#fdca26"
             ],
             [
              1,
              "#f0f921"
             ]
            ],
            "type": "contour"
           }
          ],
          "contourcarpet": [
           {
            "colorbar": {
             "outlinewidth": 0,
             "ticks": ""
            },
            "type": "contourcarpet"
           }
          ],
          "heatmap": [
           {
            "colorbar": {
             "outlinewidth": 0,
             "ticks": ""
            },
            "colorscale": [
             [
              0,
              "#0d0887"
             ],
             [
              0.1111111111111111,
              "#46039f"
             ],
             [
              0.2222222222222222,
              "#7201a8"
             ],
             [
              0.3333333333333333,
              "#9c179e"
             ],
             [
              0.4444444444444444,
              "#bd3786"
             ],
             [
              0.5555555555555556,
              "#d8576b"
             ],
             [
              0.6666666666666666,
              "#ed7953"
             ],
             [
              0.7777777777777778,
              "#fb9f3a"
             ],
             [
              0.8888888888888888,
              "#fdca26"
             ],
             [
              1,
              "#f0f921"
             ]
            ],
            "type": "heatmap"
           }
          ],
          "histogram": [
           {
            "marker": {
             "pattern": {
              "fillmode": "overlay",
              "size": 10,
              "solidity": 0.2
             }
            },
            "type": "histogram"
           }
          ],
          "histogram2d": [
           {
            "colorbar": {
             "outlinewidth": 0,
             "ticks": ""
            },
            "colorscale": [
             [
              0,
              "#0d0887"
             ],
             [
              0.1111111111111111,
              "#46039f"
             ],
             [
              0.2222222222222222,
              "#7201a8"
             ],
             [
              0.3333333333333333,
              "#9c179e"
             ],
             [
              0.4444444444444444,
              "#bd3786"
             ],
             [
              0.5555555555555556,
              "#d8576b"
             ],
             [
              0.6666666666666666,
              "#ed7953"
             ],
             [
              0.7777777777777778,
              "#fb9f3a"
             ],
             [
              0.8888888888888888,
              "#fdca26"
             ],
             [
              1,
              "#f0f921"
             ]
            ],
            "type": "histogram2d"
           }
          ],
          "histogram2dcontour": [
           {
            "colorbar": {
             "outlinewidth": 0,
             "ticks": ""
            },
            "colorscale": [
             [
              0,
              "#0d0887"
             ],
             [
              0.1111111111111111,
              "#46039f"
             ],
             [
              0.2222222222222222,
              "#7201a8"
             ],
             [
              0.3333333333333333,
              "#9c179e"
             ],
             [
              0.4444444444444444,
              "#bd3786"
             ],
             [
              0.5555555555555556,
              "#d8576b"
             ],
             [
              0.6666666666666666,
              "#ed7953"
             ],
             [
              0.7777777777777778,
              "#fb9f3a"
             ],
             [
              0.8888888888888888,
              "#fdca26"
             ],
             [
              1,
              "#f0f921"
             ]
            ],
            "type": "histogram2dcontour"
           }
          ],
          "mesh3d": [
           {
            "colorbar": {
             "outlinewidth": 0,
             "ticks": ""
            },
            "type": "mesh3d"
           }
          ],
          "parcoords": [
           {
            "line": {
             "colorbar": {
              "outlinewidth": 0,
              "ticks": ""
             }
            },
            "type": "parcoords"
           }
          ],
          "pie": [
           {
            "automargin": true,
            "type": "pie"
           }
          ],
          "scatter": [
           {
            "fillpattern": {
             "fillmode": "overlay",
             "size": 10,
             "solidity": 0.2
            },
            "type": "scatter"
           }
          ],
          "scatter3d": [
           {
            "line": {
             "colorbar": {
              "outlinewidth": 0,
              "ticks": ""
             }
            },
            "marker": {
             "colorbar": {
              "outlinewidth": 0,
              "ticks": ""
             }
            },
            "type": "scatter3d"
           }
          ],
          "scattercarpet": [
           {
            "marker": {
             "colorbar": {
              "outlinewidth": 0,
              "ticks": ""
             }
            },
            "type": "scattercarpet"
           }
          ],
          "scattergeo": [
           {
            "marker": {
             "colorbar": {
              "outlinewidth": 0,
              "ticks": ""
             }
            },
            "type": "scattergeo"
           }
          ],
          "scattergl": [
           {
            "marker": {
             "colorbar": {
              "outlinewidth": 0,
              "ticks": ""
             }
            },
            "type": "scattergl"
           }
          ],
          "scattermap": [
           {
            "marker": {
             "colorbar": {
              "outlinewidth": 0,
              "ticks": ""
             }
            },
            "type": "scattermap"
           }
          ],
          "scattermapbox": [
           {
            "marker": {
             "colorbar": {
              "outlinewidth": 0,
              "ticks": ""
             }
            },
            "type": "scattermapbox"
           }
          ],
          "scatterpolar": [
           {
            "marker": {
             "colorbar": {
              "outlinewidth": 0,
              "ticks": ""
             }
            },
            "type": "scatterpolar"
           }
          ],
          "scatterpolargl": [
           {
            "marker": {
             "colorbar": {
              "outlinewidth": 0,
              "ticks": ""
             }
            },
            "type": "scatterpolargl"
           }
          ],
          "scatterternary": [
           {
            "marker": {
             "colorbar": {
              "outlinewidth": 0,
              "ticks": ""
             }
            },
            "type": "scatterternary"
           }
          ],
          "surface": [
           {
            "colorbar": {
             "outlinewidth": 0,
             "ticks": ""
            },
            "colorscale": [
             [
              0,
              "#0d0887"
             ],
             [
              0.1111111111111111,
              "#46039f"
             ],
             [
              0.2222222222222222,
              "#7201a8"
             ],
             [
              0.3333333333333333,
              "#9c179e"
             ],
             [
              0.4444444444444444,
              "#bd3786"
             ],
             [
              0.5555555555555556,
              "#d8576b"
             ],
             [
              0.6666666666666666,
              "#ed7953"
             ],
             [
              0.7777777777777778,
              "#fb9f3a"
             ],
             [
              0.8888888888888888,
              "#fdca26"
             ],
             [
              1,
              "#f0f921"
             ]
            ],
            "type": "surface"
           }
          ],
          "table": [
           {
            "cells": {
             "fill": {
              "color": "#EBF0F8"
             },
             "line": {
              "color": "white"
             }
            },
            "header": {
             "fill": {
              "color": "#C8D4E3"
             },
             "line": {
              "color": "white"
             }
            },
            "type": "table"
           }
          ]
         },
         "layout": {
          "annotationdefaults": {
           "arrowcolor": "#2a3f5f",
           "arrowhead": 0,
           "arrowwidth": 1
          },
          "autotypenumbers": "strict",
          "coloraxis": {
           "colorbar": {
            "outlinewidth": 0,
            "ticks": ""
           }
          },
          "colorscale": {
           "diverging": [
            [
             0,
             "#8e0152"
            ],
            [
             0.1,
             "#c51b7d"
            ],
            [
             0.2,
             "#de77ae"
            ],
            [
             0.3,
             "#f1b6da"
            ],
            [
             0.4,
             "#fde0ef"
            ],
            [
             0.5,
             "#f7f7f7"
            ],
            [
             0.6,
             "#e6f5d0"
            ],
            [
             0.7,
             "#b8e186"
            ],
            [
             0.8,
             "#7fbc41"
            ],
            [
             0.9,
             "#4d9221"
            ],
            [
             1,
             "#276419"
            ]
           ],
           "sequential": [
            [
             0,
             "#0d0887"
            ],
            [
             0.1111111111111111,
             "#46039f"
            ],
            [
             0.2222222222222222,
             "#7201a8"
            ],
            [
             0.3333333333333333,
             "#9c179e"
            ],
            [
             0.4444444444444444,
             "#bd3786"
            ],
            [
             0.5555555555555556,
             "#d8576b"
            ],
            [
             0.6666666666666666,
             "#ed7953"
            ],
            [
             0.7777777777777778,
             "#fb9f3a"
            ],
            [
             0.8888888888888888,
             "#fdca26"
            ],
            [
             1,
             "#f0f921"
            ]
           ],
           "sequentialminus": [
            [
             0,
             "#0d0887"
            ],
            [
             0.1111111111111111,
             "#46039f"
            ],
            [
             0.2222222222222222,
             "#7201a8"
            ],
            [
             0.3333333333333333,
             "#9c179e"
            ],
            [
             0.4444444444444444,
             "#bd3786"
            ],
            [
             0.5555555555555556,
             "#d8576b"
            ],
            [
             0.6666666666666666,
             "#ed7953"
            ],
            [
             0.7777777777777778,
             "#fb9f3a"
            ],
            [
             0.8888888888888888,
             "#fdca26"
            ],
            [
             1,
             "#f0f921"
            ]
           ]
          },
          "colorway": [
           "#636efa",
           "#EF553B",
           "#00cc96",
           "#ab63fa",
           "#FFA15A",
           "#19d3f3",
           "#FF6692",
           "#B6E880",
           "#FF97FF",
           "#FECB52"
          ],
          "font": {
           "color": "#2a3f5f"
          },
          "geo": {
           "bgcolor": "white",
           "lakecolor": "white",
           "landcolor": "#E5ECF6",
           "showlakes": true,
           "showland": true,
           "subunitcolor": "white"
          },
          "hoverlabel": {
           "align": "left"
          },
          "hovermode": "closest",
          "mapbox": {
           "style": "light"
          },
          "paper_bgcolor": "white",
          "plot_bgcolor": "#E5ECF6",
          "polar": {
           "angularaxis": {
            "gridcolor": "white",
            "linecolor": "white",
            "ticks": ""
           },
           "bgcolor": "#E5ECF6",
           "radialaxis": {
            "gridcolor": "white",
            "linecolor": "white",
            "ticks": ""
           }
          },
          "scene": {
           "xaxis": {
            "backgroundcolor": "#E5ECF6",
            "gridcolor": "white",
            "gridwidth": 2,
            "linecolor": "white",
            "showbackground": true,
            "ticks": "",
            "zerolinecolor": "white"
           },
           "yaxis": {
            "backgroundcolor": "#E5ECF6",
            "gridcolor": "white",
            "gridwidth": 2,
            "linecolor": "white",
            "showbackground": true,
            "ticks": "",
            "zerolinecolor": "white"
           },
           "zaxis": {
            "backgroundcolor": "#E5ECF6",
            "gridcolor": "white",
            "gridwidth": 2,
            "linecolor": "white",
            "showbackground": true,
            "ticks": "",
            "zerolinecolor": "white"
           }
          },
          "shapedefaults": {
           "line": {
            "color": "#2a3f5f"
           }
          },
          "ternary": {
           "aaxis": {
            "gridcolor": "white",
            "linecolor": "white",
            "ticks": ""
           },
           "baxis": {
            "gridcolor": "white",
            "linecolor": "white",
            "ticks": ""
           },
           "bgcolor": "#E5ECF6",
           "caxis": {
            "gridcolor": "white",
            "linecolor": "white",
            "ticks": ""
           }
          },
          "title": {
           "x": 0.05
          },
          "xaxis": {
           "automargin": true,
           "gridcolor": "white",
           "linecolor": "white",
           "ticks": "",
           "title": {
            "standoff": 15
           },
           "zerolinecolor": "white",
           "zerolinewidth": 2
          },
          "yaxis": {
           "automargin": true,
           "gridcolor": "white",
           "linecolor": "white",
           "ticks": "",
           "title": {
            "standoff": 15
           },
           "zerolinecolor": "white",
           "zerolinewidth": 2
          }
         }
        },
        "title": {
         "text": "Optimization History Plot"
        },
        "xaxis": {
         "title": {
          "text": "Trial"
         }
        },
        "yaxis": {
         "title": {
          "text": "f1"
         }
        }
       }
      }
     },
     "metadata": {},
     "output_type": "display_data"
    }
   ],
   "source": [
    "optuna.visualization.plot_optimization_history(study, target_name=\"f1\")"
   ]
  },
  {
   "cell_type": "code",
   "execution_count": 15,
   "id": "ceb900f6",
   "metadata": {},
   "outputs": [
    {
     "ename": "NameError",
     "evalue": "name 'study' is not defined",
     "output_type": "error",
     "traceback": [
      "\u001b[1;31m---------------------------------------------------------------------------\u001b[0m",
      "\u001b[1;31mNameError\u001b[0m                                 Traceback (most recent call last)",
      "Cell \u001b[1;32mIn[15], line 1\u001b[0m\n\u001b[1;32m----> 1\u001b[0m best_trial \u001b[38;5;241m=\u001b[39m \u001b[43mstudy\u001b[49m\u001b[38;5;241m.\u001b[39mbest_trial\n\u001b[0;32m      2\u001b[0m best_model \u001b[38;5;241m=\u001b[39m CNN(best_trial)\u001b[38;5;241m.\u001b[39mto(device)\n\u001b[0;32m      3\u001b[0m best_model\u001b[38;5;241m.\u001b[39mload_state_dict(torch\u001b[38;5;241m.\u001b[39mload(best_trial\u001b[38;5;241m.\u001b[39muser_attrs[\u001b[38;5;124m\"\u001b[39m\u001b[38;5;124mmodel_path\u001b[39m\u001b[38;5;124m\"\u001b[39m]))\n",
      "\u001b[1;31mNameError\u001b[0m: name 'study' is not defined"
     ]
    }
   ],
   "source": [
    "best_trial = study.best_trial\n",
    "best_model = CNN(best_trial).to(device)\n",
    "best_model.load_state_dict(torch.load(best_trial.user_attrs[\"model_path\"]))"
   ]
  },
  {
   "cell_type": "markdown",
   "id": "2ae2d294",
   "metadata": {},
   "source": [
    "**Part III: Testing 2D CNN**"
   ]
  },
  {
   "cell_type": "code",
   "execution_count": null,
   "id": "6cc30513",
   "metadata": {},
   "outputs": [],
   "source": [
    "# === Test the model ===\n",
    "best_model = CNN(best_trial).to(device)\n",
    "best_model.load_state_dict(torch.load(best_trial.user_attrs[\"model_path\"]))\n",
    "best_model.eval()\n",
    "\n",
    "_, _, test_loader = get_data_loaders(final_train_dataset, final_val_dataset, final_test_dataset)\n",
    "\n",
    "all_preds, all_probs, all_targets = [], [], []\n",
    "\n",
    "with torch.no_grad():\n",
    "    for data, target in test_loader:\n",
    "        data, target = data.to(device), target.to(device)\n",
    "        output = model(data).squeeze(1)\n",
    "        probs = torch.sigmoid(output)\n",
    "\n",
    "        preds = (probs >= threshold).long()\n",
    "\n",
    "        all_preds.extend(preds.cpu().numpy())\n",
    "        all_probs.extend(probs.cpu().numpy())\n",
    "        all_targets.extend(target.cpu().numpy())\n",
    "\n",
    "precision = precision_score(all_targets, all_preds, zero_division=0)\n",
    "recall = recall_score(all_targets, all_preds, zero_division=0)\n",
    "f1 = f1_score(all_targets, all_preds, zero_division=0)\n",
    "\n",
    "all_probs_flat = [float(p[0]) for p in all_probs]\n",
    "precision_curve, recall_curve, _ = precision_recall_curve(all_targets, all_probs_flat)\n",
    "pr_auc = auc(recall_curve, precision_curve)\n",
    "\n"
   ]
  },
  {
   "cell_type": "code",
   "execution_count": null,
   "id": "cd748a65",
   "metadata": {},
   "outputs": [],
   "source": [
    "# === Baseline === ???\n",
    "\n",
    "class baseline_CNN(nn.Module):\n",
    "    def __init__(self, input_channels=1, image_size=28):\n",
    "        super().__init__()\n",
    "        self.conv = nn.Sequential(\n",
    "            nn.Conv2d(input_channels, 8, kernel_size=3, padding=1),\n",
    "            nn.ReLU(),\n",
    "            nn.MaxPool2d(2),  # Reduces spatial size by half\n",
    "        )\n",
    "        flattened_size = 8 * (image_size // 2) * (image_size // 2)\n",
    "        self.fc = nn.Linear(flattened_size, 1)  # Binary classification\n",
    "\n",
    "    def forward(self, x):\n",
    "        x = self.conv(x)\n",
    "        x = x.view(x.size(0), -1)\n",
    "        return self.fc(x)\n",
    "\n",
    "def train_shallow_cnn(train_loader, val_loader, device, n_epochs=10, lr=1e-3):\n",
    "    model = baseline_CNN().to(device)\n",
    "    optimizer = torch.optim.Adam(model.parameters(), lr=lr)\n",
    "\n",
    "    # Handle imbalance if needed\n",
    "    train_labels = torch.cat([target for _, target in train_loader], dim=0)\n",
    "    pos = (train_labels == 1).sum().item()\n",
    "    neg = (train_labels == 0).sum().item()\n",
    "    pos_weight = torch.tensor([neg / pos]).to(device)\n",
    "    criterion = nn.BCEWithLogitsLoss(pos_weight=pos_weight)\n",
    "\n",
    "    for epoch in range(n_epochs):\n",
    "        model.train()\n",
    "        for data, target in train_loader:\n",
    "            data, target = data.to(device), target.to(device).float()\n",
    "            output = model(data).squeeze(1)\n",
    "            loss = criterion(output, target)\n",
    "            optimizer.zero_grad()\n",
    "            loss.backward()\n",
    "            optimizer.step()\n",
    "\n",
    "    # Validation\n",
    "    model.eval()\n",
    "    all_preds, all_targets = [], []\n",
    "    with torch.no_grad():\n",
    "        for data, target in val_loader:\n",
    "            data, target = data.to(device), target.to(device)\n",
    "            output = model(data).squeeze(1)\n",
    "            probs = torch.sigmoid(output)\n",
    "            preds = (probs >= 0.5).long()\n",
    "\n",
    "            all_preds.extend(preds.cpu().numpy())\n",
    "            all_targets.extend(target.cpu().numpy())\n",
    "\n",
    "    val_f1 = f1_score(all_targets, all_preds, zero_division=0)\n",
    "    print(f\"Baseline CNN Validation F1: {val_f1:.4f}\")\n",
    "    return model, val_f1\n"
   ]
  }
 ],
 "metadata": {
  "kernelspec": {
   "display_name": "cnn_remote_sensing",
   "language": "python",
   "name": "python3"
  },
  "language_info": {
   "codemirror_mode": {
    "name": "ipython",
    "version": 3
   },
   "file_extension": ".py",
   "mimetype": "text/x-python",
   "name": "python",
   "nbconvert_exporter": "python",
   "pygments_lexer": "ipython3",
   "version": "3.10.16"
  }
 },
 "nbformat": 4,
 "nbformat_minor": 5
}
